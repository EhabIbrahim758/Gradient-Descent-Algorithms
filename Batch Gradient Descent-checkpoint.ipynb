{
 "cells": [
  {
   "cell_type": "markdown",
   "metadata": {},
   "source": [
    "#### Import numpy, matplotlib.pyplot and make it inline"
   ]
  },
  {
   "cell_type": "code",
   "execution_count": 1,
   "metadata": {},
   "outputs": [],
   "source": [
    "import numpy as np\n",
    "from numpy.linalg import norm\n",
    "import pandas as pd\n",
    "import matplotlib.pyplot as plt\n",
    "%matplotlib inline\n",
    "np.random.seed(42)"
   ]
  },
  {
   "cell_type": "markdown",
   "metadata": {},
   "source": [
    "To have a dataset or set of data points, the student must generate a pair of arrays <b>X</b> and <b>y</b> with the values in <b>X</b> equally distributed between <b>0</b> and <b>20</b> and the values in <b>y</b> such that: \n",
    "<b>yi = a*xi + b (and a = -2, b = 1)</b>\n"
   ]
  },
  {
   "cell_type": "code",
   "execution_count": 25,
   "metadata": {},
   "outputs": [],
   "source": [
    "a = -2\n",
    "b = 1\n",
    "X = np.linspace(0,20,50)\n",
    "y = a * X + b + np.random.rand(1)\n",
    "\n"
   ]
  },
  {
   "cell_type": "markdown",
   "metadata": {},
   "source": [
    "#### The function should take the following input parameters:\n",
    "##### Input data (X), Target Labels (y), Learning Rate (alpha), Maximum number of iterations\n",
    "#### The function should return the following:\n",
    "##### All Theta_0 and Theta_1 values till converge, and equivellant Losses, all hypothesis output, and optimum values of Theta_0 and Theta_1\n"
   ]
  },
  {
   "cell_type": "code",
   "execution_count": 39,
   "metadata": {},
   "outputs": [],
   "source": [
    "def Batch_GD(X, y, alpha, max_iter) :\n",
    "    # firstly we add the row of X_0 to the input X \n",
    "    ones = np.ones((len(X),1))\n",
    "    X = X.reshape((len(X), 1))\n",
    "    X = np.hstack([ones, X])\n",
    "    \n",
    "    # generate random theta vector \n",
    "    theta = np.random.random(X.shape[1])\n",
    "    \n",
    "    # i will put the initial value of loss equal zero just for check the first stop criteria\n",
    "    loss = [0]\n",
    "    weights = []\n",
    "    iterations = 0\n",
    "    \n",
    "    for i in range(max_iter) : \n",
    "        h_x = X @ theta\n",
    "        \n",
    "        error = h_x - y\n",
    "        cost = (1 /(2 * len(y))) * sum(error**2)\n",
    "        gradient = (1 / len(y)) * X.T @ error\n",
    "        theta = theta - alpha * gradient\n",
    "        loss.append(cost)\n",
    "        weights.append(theta)\n",
    "        iterations += 1\n",
    "        # stopping condition\n",
    "        if norm(gradient, 2) < 0.001:\n",
    "            print(\"gradient is less than 0.001\")\n",
    "            break\n",
    "        if abs(loss[-2] - loss[-1]) < 0.00001 :\n",
    "            print(\"stop because loss decreases very slowely\") \n",
    "            break\n",
    "        # showing gradient and loss every 100 iterations \n",
    "        if iterations % 100 == 0 :\n",
    "            print(f\"the loss in the trial number {iterations} is {cost}\")\n",
    "            print(f\"the gradient in the trial number {iterations} is {gradient}\")\n",
    "        \n",
    "    y_pred = X @ theta\n",
    "    \n",
    "    return  weights, loss, y_pred, theta, iterations     "
   ]
  },
  {
   "cell_type": "markdown",
   "metadata": {},
   "source": [
    "#### Try your function with any input parameterss of your choice."
   ]
  },
  {
   "cell_type": "code",
   "execution_count": 40,
   "metadata": {},
   "outputs": [
    {
     "name": "stdout",
     "output_type": "stream",
     "text": [
      "the loss in the trial number 100 is 0.4012433480156281\n",
      "the gradient in the trial number 100 is [-0.45213254  0.03379481]\n",
      "the loss in the trial number 200 is 0.38120195805184454\n",
      "the gradient in the trial number 200 is [-0.44070808  0.03278158]\n",
      "the loss in the trial number 300 is 0.3621615998788258\n",
      "the gradient in the trial number 300 is [-0.42956081  0.0319524 ]\n",
      "the loss in the trial number 400 is 0.3440722736501582\n",
      "the gradient in the trial number 400 is [-0.4186955  0.0311442]\n",
      "the loss in the trial number 500 is 0.3268864770157839\n",
      "the gradient in the trial number 500 is [-0.40810501  0.03035644]\n",
      "the loss in the trial number 600 is 0.3105590802833402\n",
      "the gradient in the trial number 600 is [-0.3977824  0.0295886]\n",
      "the loss in the trial number 700 is 0.2950472079081364\n",
      "the gradient in the trial number 700 is [-0.38772089  0.02884019]\n",
      "the loss in the trial number 800 is 0.28031012590249704\n",
      "the gradient in the trial number 800 is [-0.37791388  0.0281107 ]\n",
      "the loss in the trial number 900 is 0.2663091348688102\n",
      "the gradient in the trial number 900 is [-0.36835493  0.02739967]\n",
      "the loss in the trial number 1000 is 0.2530074683753778\n",
      "the gradient in the trial number 1000 is [-0.35903776  0.02670662]\n",
      "the loss in the trial number 1100 is 0.2403701964082158\n",
      "the gradient in the trial number 1100 is [-0.34995626  0.02603111]\n",
      "the loss in the trial number 1200 is 0.22836413364526162\n",
      "the gradient in the trial number 1200 is [-0.34110446  0.02537268]\n",
      "the loss in the trial number 1300 is 0.21695775231212672\n",
      "the gradient in the trial number 1300 is [-0.33247656  0.0247309 ]\n",
      "the loss in the trial number 1400 is 0.20612109939054246\n",
      "the gradient in the trial number 1400 is [-0.3240669   0.02410536]\n",
      "the loss in the trial number 1500 is 0.19582571796210085\n",
      "the gradient in the trial number 1500 is [-0.31586995  0.02349564]\n",
      "the loss in the trial number 1600 is 0.18604457248073403\n",
      "the gradient in the trial number 1600 is [-0.30788034  0.02290134]\n",
      "the loss in the trial number 1700 is 0.17675197777769858\n",
      "the gradient in the trial number 1700 is [-0.30009281  0.02232207]\n",
      "the loss in the trial number 1800 is 0.16792353161263665\n",
      "the gradient in the trial number 1800 is [-0.29250226  0.02175746]\n",
      "the loss in the trial number 1900 is 0.1595360505935908\n",
      "the gradient in the trial number 1900 is [-0.28510371  0.02120712]\n",
      "the loss in the trial number 2000 is 0.15156750929769935\n",
      "the gradient in the trial number 2000 is [-0.2778923   0.02067071]\n",
      "the loss in the trial number 2100 is 0.14399698243270329\n",
      "the gradient in the trial number 2100 is [-0.27086329  0.02014786]\n",
      "the loss in the trial number 2200 is 0.13680458988738553\n",
      "the gradient in the trial number 2200 is [-0.26401207  0.01963824]\n",
      "the loss in the trial number 2300 is 0.1299714445266408\n",
      "the gradient in the trial number 2300 is [-0.25733415  0.01914151]\n",
      "the loss in the trial number 2400 is 0.12347960259408881\n",
      "the gradient in the trial number 2400 is [-0.25082514  0.01865735]\n",
      "the loss in the trial number 2500 is 0.11731201659198864\n",
      "the gradient in the trial number 2500 is [-0.24448077  0.01818543]\n",
      "the loss in the trial number 2600 is 0.11145249051472032\n",
      "the gradient in the trial number 2600 is [-0.23829687  0.01772545]\n",
      "the loss in the trial number 2700 is 0.10588563731826697\n",
      "the gradient in the trial number 2700 is [-0.23226939  0.0172771 ]\n",
      "the loss in the trial number 2800 is 0.1005968385140273\n",
      "the gradient in the trial number 2800 is [-0.22639437  0.01684009]\n",
      "the loss in the trial number 2900 is 0.09557220578084548\n",
      "the gradient in the trial number 2900 is [-0.22066795  0.01641414]\n",
      "the loss in the trial number 3000 is 0.09079854449444298\n",
      "the gradient in the trial number 3000 is [-0.21508637  0.01599896]\n",
      "the loss in the trial number 3100 is 0.08626331907850229\n",
      "the gradient in the trial number 3100 is [-0.20964598  0.01559428]\n",
      "the loss in the trial number 3200 is 0.08195462008639295\n",
      "the gradient in the trial number 3200 is [-0.20434319  0.01519984]\n",
      "the loss in the trial number 3300 is 0.07786113292711043\n",
      "the gradient in the trial number 3300 is [-0.19917453  0.01481538]\n",
      "the loss in the trial number 3400 is 0.07397210815329848\n",
      "the gradient in the trial number 3400 is [-0.19413661  0.01444064]\n",
      "the loss in the trial number 3500 is 0.07027733323333178\n",
      "the gradient in the trial number 3500 is [-0.18922612  0.01407537]\n",
      "the loss in the trial number 3600 is 0.06676710573333221\n",
      "the gradient in the trial number 3600 is [-0.18443984  0.01371935]\n",
      "the loss in the trial number 3700 is 0.06343220783869585\n",
      "the gradient in the trial number 3700 is [-0.17977461  0.01337233]\n",
      "the loss in the trial number 3800 is 0.060263882148223126\n",
      "the gradient in the trial number 3800 is [-0.17522739  0.01303409]\n",
      "the loss in the trial number 3900 is 0.05725380867729226\n",
      "the gradient in the trial number 3900 is [-0.17079519  0.01270441]\n",
      "the loss in the trial number 4000 is 0.05439408300967933\n",
      "the gradient in the trial number 4000 is [-0.1664751   0.01238307]\n",
      "the loss in the trial number 4100 is 0.05167719554065855\n",
      "the gradient in the trial number 4100 is [-0.16226428  0.01206985]\n",
      "the loss in the trial number 4200 is 0.04909601175687134\n",
      "the gradient in the trial number 4200 is [-0.15815996  0.01176455]\n",
      "the loss in the trial number 4300 is 0.04664375350118197\n",
      "the gradient in the trial number 4300 is [-0.15415947  0.01146698]\n",
      "the loss in the trial number 4400 is 0.044313981173318535\n",
      "the gradient in the trial number 4400 is [-0.15026016  0.01117693]\n",
      "the loss in the trial number 4500 is 0.042100576819562086\n",
      "the gradient in the trial number 4500 is [-0.14645948  0.01089423]\n",
      "the loss in the trial number 4600 is 0.03999772806707424\n",
      "the gradient in the trial number 4600 is [-0.14275493  0.01061867]\n",
      "the loss in the trial number 4700 is 0.03799991286067796\n",
      "the gradient in the trial number 4700 is [-0.13914409  0.01035008]\n",
      "the loss in the trial number 4800 is 0.03610188496200558\n",
      "the gradient in the trial number 4800 is [-0.13562457  0.01008828]\n",
      "the loss in the trial number 4900 is 0.03429866017294457\n",
      "the gradient in the trial number 4900 is [-0.13219409  0.00983311]\n",
      "the loss in the trial number 5000 is 0.0325855032471904\n",
      "the gradient in the trial number 5000 is [-0.12885037  0.00958439]\n",
      "the loss in the trial number 5100 is 0.03095791545555017\n",
      "the gradient in the trial number 5100 is [-0.12559123  0.00934196]\n",
      "the loss in the trial number 5200 is 0.02941162277233282\n",
      "the gradient in the trial number 5200 is [-0.12241452  0.00910567]\n",
      "the loss in the trial number 5300 is 0.027942564651810792\n",
      "the gradient in the trial number 5300 is [-0.11931817  0.00887535]\n",
      "the loss in the trial number 5400 is 0.026546883365276518\n",
      "the gradient in the trial number 5400 is [-0.11630014  0.00865086]\n",
      "the loss in the trial number 5500 is 0.025220913870693185\n",
      "the gradient in the trial number 5500 is [-0.11335844  0.00843204]\n",
      "the loss in the trial number 5600 is 0.023961174188339495\n",
      "the gradient in the trial number 5600 is [-0.11049115  0.00821876]\n",
      "the loss in the trial number 5700 is 0.022764356257173348\n",
      "the gradient in the trial number 5700 is [-0.10769639  0.00801088]\n",
      "the loss in the trial number 5800 is 0.021627317247904055\n",
      "the gradient in the trial number 5800 is [-0.10497232  0.00780825]\n",
      "the loss in the trial number 5900 is 0.020547071309960502\n",
      "the gradient in the trial number 5900 is [-0.10231715  0.00761075]\n",
      "the loss in the trial number 6000 is 0.019520781730684476\n",
      "the gradient in the trial number 6000 is [-0.09972914  0.00741824]\n",
      "stop because loss decreases very slowely\n"
     ]
    }
   ],
   "source": [
    "alpha = 0.001\n",
    "max_iter = 10000\n",
    "weights, loss, y_pred, theta, iterations = Batch_GD(X, y, alpha, max_iter)"
   ]
  },
  {
   "cell_type": "code",
   "execution_count": 41,
   "metadata": {},
   "outputs": [
    {
     "name": "stdout",
     "output_type": "stream",
     "text": [
      "6001\n",
      "6002\n",
      "6001\n",
      "[ 1.44332017 -1.97105556]\n"
     ]
    }
   ],
   "source": [
    "print(iterations)\n",
    "print(len(loss))\n",
    "print(len(weights))\n",
    "print(theta)"
   ]
  },
  {
   "cell_type": "markdown",
   "metadata": {},
   "source": [
    "#### Calculate r2 score"
   ]
  },
  {
   "cell_type": "code",
   "execution_count": 42,
   "metadata": {},
   "outputs": [
    {
     "data": {
      "text/plain": [
       "0.9997189592382005"
      ]
     },
     "execution_count": 42,
     "metadata": {},
     "output_type": "execute_result"
    }
   ],
   "source": [
    "from sklearn.metrics import r2_score\n",
    "squared_R = r2_score(y, y_pred)\n",
    "squared_R"
   ]
  },
  {
   "cell_type": "markdown",
   "metadata": {},
   "source": [
    "#### Plot loss vs. epochs"
   ]
  },
  {
   "cell_type": "code",
   "execution_count": 43,
   "metadata": {},
   "outputs": [
    {
     "data": {
      "image/png": "[encoded data removed]",
      "text/plain": [
       "<Figure size 432x288 with 1 Axes>"
      ]
     },
     "metadata": {
      "needs_background": "light"
     },
     "output_type": "display_data"
    }
   ],
   "source": [
    "iterations = np.arange(0,iterations ,1)\n",
    "plt.plot(iterations, loss[1:])\n",
    "plt.xlabel(\"Number Of Iterations\")\n",
    "plt.ylabel(\"Cost Function\")\n",
    "plt.title(\"Iterations VS Cost Function\");"
   ]
  },
  {
   "cell_type": "markdown",
   "metadata": {},
   "source": [
    "#### Plot Theta_0 vs. loss and Theta_1 vs. loss"
   ]
  },
  {
   "cell_type": "code",
   "execution_count": 44,
   "metadata": {},
   "outputs": [
    {
     "data": {
      "image/png": "[encoded data removed]",
      "text/plain": [
       "<Figure size 432x288 with 1 Axes>"
      ]
     },
     "metadata": {
      "needs_background": "light"
     },
     "output_type": "display_data"
    }
   ],
   "source": [
    "weights = np.array(weights)\n",
    "plt.plot(weights[ : , 0], loss[1:], label = \"theta_0\")\n",
    "plt.plot(weights[ : , 1], loss[1:], label = \"theta_1\")\n",
    "plt.title(\"Weights VS Loss\")\n",
    "plt.xlabel(\"Theta\")\n",
    "plt.ylabel(\"Loss\")\n",
    "plt.legend();"
   ]
  }
 ],
 "metadata": {
  "kernelspec": {
   "display_name": "Python 3",
   "language": "python",
   "name": "python3"
  },
  "language_info": {
   "codemirror_mode": {
    "name": "ipython",
    "version": 3
   },
   "file_extension": ".py",
   "mimetype": "text/x-python",
   "name": "python",
   "nbconvert_exporter": "python",
   "pygments_lexer": "ipython3",
   "version": "3.7.6"
  }
 },
 "nbformat": 4,
 "nbformat_minor": 4
}
