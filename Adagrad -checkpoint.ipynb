{
 "cells": [
  {
   "cell_type": "markdown",
   "metadata": {},
   "source": [
    "### imports"
   ]
  },
  {
   "cell_type": "code",
   "execution_count": 1,
   "metadata": {},
   "outputs": [],
   "source": [
    "import numpy as np\n",
    "from numpy.linalg import norm\n",
    "import pandas as pd\n",
    "import matplotlib.pyplot as plt\n",
    "%matplotlib inline\n",
    "np.random.seed(42)"
   ]
  },
  {
   "cell_type": "markdown",
   "metadata": {},
   "source": [
    "### generalize data"
   ]
  },
  {
   "cell_type": "code",
   "execution_count": 136,
   "metadata": {},
   "outputs": [],
   "source": [
    "data = pd.read_csv(\"MultipleLR.csv\", header = None)\n",
    "X = data.iloc[:, 0:3]\n",
    "y = data.iloc[:, 3]\n",
    "ones = np.ones((X.shape[0], 1))\n",
    "X = np.hstack([ones, X])\n"
   ]
  },
  {
   "cell_type": "markdown",
   "metadata": {},
   "source": [
    "#### the function will take X, y, learning rate, max iterations\n",
    "#### and return all theta, optimum theta, all losses, number of iterations \n"
   ]
  },
  {
   "cell_type": "code",
   "execution_count": 171,
   "metadata": {},
   "outputs": [],
   "source": [
    "def Adagarad(X, y, alpha, max_iter) :\n",
    "    # guessing thetas\n",
    "    theta = np.random.random(X.shape[1])\n",
    "    \n",
    "    loss = [0]\n",
    "    iterations = 0\n",
    "    weights = []\n",
    "    v_t = 0\n",
    "\n",
    "    for i in range(max_iter) :\n",
    "        h_x = X @ theta\n",
    "        error = h_x - y\n",
    "        cost = sum(error**2) / (2 * len(y))\n",
    "        gradient =  error.T @ X\n",
    "        v_t += gradient**2\n",
    "        theta = theta - (alpha / np.sqrt(v_t+1e-8)) * gradient\n",
    "        iterations += 1\n",
    "        loss.append(cost)\n",
    "        weights.append(theta)\n",
    "        \n",
    "        #print(v_t)\n",
    "        #print(gradient)\n",
    "        #print(alpha / np.sqrt(v_t+1e-8))\n",
    "        \n",
    "        # stopping condition\n",
    "        if norm(gradient, 2) < 0.1 :\n",
    "            break\n",
    "        if abs(loss[-2] - loss[-1]) < (1e-6) :\n",
    "            break\n",
    "        \n",
    "    y_pred = X @ theta\n",
    "    return iterations, weights, loss, y_pred "
   ]
  },
  {
   "cell_type": "code",
   "execution_count": 172,
   "metadata": {},
   "outputs": [],
   "source": [
    "alpha = 0.5\n",
    "max_iter = 100000\n",
    "iterations, weights, loss, y_pred = Adagarad(X, y, alpha, max_iter) \n"
   ]
  },
  {
   "cell_type": "code",
   "execution_count": 173,
   "metadata": {},
   "outputs": [
    {
     "name": "stdout",
     "output_type": "stream",
     "text": [
      "20007\n",
      "[-3.57326702  0.3563752   0.54034817  1.15995445]\n",
      "2.8745176678900988\n",
      "20008\n"
     ]
    }
   ],
   "source": [
    "print(iterations)\n",
    "print(weights[-1])\n",
    "print(loss[-1])\n",
    "print(len(loss))\n"
   ]
  },
  {
   "cell_type": "code",
   "execution_count": null,
   "metadata": {},
   "outputs": [],
   "source": []
  },
  {
   "cell_type": "code",
   "execution_count": 174,
   "metadata": {},
   "outputs": [
    {
     "data": {
      "text/plain": [
       "0.9896413515130481"
      ]
     },
     "execution_count": 174,
     "metadata": {},
     "output_type": "execute_result"
    }
   ],
   "source": [
    "from sklearn.metrics import r2_score\n",
    "squared_R = r2_score(y, y_pred)\n",
    "squared_R"
   ]
  },
  {
   "cell_type": "code",
   "execution_count": 175,
   "metadata": {},
   "outputs": [
    {
     "data": {
      "image/png": "[encoded data removed]",
      "text/plain": [
       "<Figure size 432x288 with 1 Axes>"
      ]
     },
     "metadata": {
      "needs_background": "light"
     },
     "output_type": "display_data"
    }
   ],
   "source": [
    "x_values = np.arange(0, iterations, 1 )\n",
    "plt.plot(x_values, loss[1:])\n",
    "#plt.xlim(0, 20000)\n",
    "#plt.ylim(0, 10)\n",
    "plt.xlabel(\"Number Of Iterations\")\n",
    "plt.ylabel(\"Cost Function\")\n",
    "plt.title(\"Iterations VS Cost Function\");"
   ]
  },
  {
   "cell_type": "code",
   "execution_count": null,
   "metadata": {},
   "outputs": [],
   "source": []
  },
  {
   "cell_type": "code",
   "execution_count": null,
   "metadata": {},
   "outputs": [],
   "source": []
  }
 ],
 "metadata": {
  "kernelspec": {
   "display_name": "Python 3",
   "language": "python",
   "name": "python3"
  },
  "language_info": {
   "codemirror_mode": {
    "name": "ipython",
    "version": 3
   },
   "file_extension": ".py",
   "mimetype": "text/x-python",
   "name": "python",
   "nbconvert_exporter": "python",
   "pygments_lexer": "ipython3",
   "version": "3.7.6"
  }
 },
 "nbformat": 4,
 "nbformat_minor": 4
}
