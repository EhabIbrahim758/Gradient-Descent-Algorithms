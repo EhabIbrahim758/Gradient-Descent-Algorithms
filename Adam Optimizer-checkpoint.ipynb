{
 "cells": [
  {
   "cell_type": "markdown",
   "metadata": {},
   "source": [
    "## Imports"
   ]
  },
  {
   "cell_type": "code",
   "execution_count": 99,
   "metadata": {},
   "outputs": [],
   "source": [
    "import numpy as np\n",
    "from numpy.linalg import norm\n",
    "import pandas as pd\n",
    "import matplotlib.pyplot as plt\n",
    "%matplotlib inline\n",
    "np.random.seed(42)"
   ]
  },
  {
   "cell_type": "markdown",
   "metadata": {},
   "source": [
    "## Get Tha Data"
   ]
  },
  {
   "cell_type": "code",
   "execution_count": 160,
   "metadata": {},
   "outputs": [],
   "source": [
    "data = pd.read_csv(\"MultipleLR.csv\", header = None)\n",
    "X = data.iloc[:, 0:3]\n",
    "y = data.iloc[:, 3]\n",
    "ones = np.ones((X.shape[0], 1))\n",
    "X = np.hstack([ones, X])\n"
   ]
  },
  {
   "cell_type": "code",
   "execution_count": 165,
   "metadata": {},
   "outputs": [],
   "source": [
    "def Adam(X, y, alpha, beta_1, beta_2, max_iter) :\n",
    "    # guessing thetas\n",
    "    theta = np.random.random(X.shape[1])\n",
    "    \n",
    "    loss = [0]\n",
    "    iterations = 0\n",
    "    weights = []\n",
    "    # adaptive term\n",
    "    v_t = 0\n",
    "    # momentum term\n",
    "    m_t = 0\n",
    "    \n",
    "    for i in range(max_iter) :\n",
    "        h_x = X @ theta\n",
    "        error = h_x - y\n",
    "        cost = sum(error**2) / (2 * len(y))\n",
    "        gradient =  error.T @ X\n",
    "        m_t = beta_1 * m_t + (1 - beta_1) * gradient\n",
    "        m_t = m_t / (1 - beta_1**(i+1))\n",
    "        v_t = beta_2 * v_t + (1 - beta_2) * gradient**2\n",
    "        v_t = v_t / (1 - beta_2**(i+1))\n",
    "        theta = theta - (alpha / np.sqrt(v_t+1e-8)) * m_t\n",
    "        iterations += 1\n",
    "        loss.append(cost)\n",
    "        weights.append(theta)\n",
    "        \n",
    "        #print(v_t)\n",
    "        #print(gradient)\n",
    "        #print(alpha / np.sqrt(v_t+1e-8))\n",
    "        \n",
    "        # stopping condition\n",
    "        if norm(gradient, 2) < 0.001 :\n",
    "            break\n",
    "        #if abs(loss[-2] - loss[-1]) < (1e-100) :\n",
    "         #   break\n",
    "        \n",
    "    y_pred = X @ theta\n",
    "    return iterations, weights, loss, y_pred "
   ]
  },
  {
   "cell_type": "code",
   "execution_count": 166,
   "metadata": {},
   "outputs": [],
   "source": [
    "alpha = 0.4\n",
    "beta_1 = 0.9\n",
    "beta_2 = 0.9\n",
    "max_iter = 100000\n",
    "iterations, weights, loss, y_pred = Adam(X, y, alpha, beta_1, beta_2, max_iter)"
   ]
  },
  {
   "cell_type": "code",
   "execution_count": 167,
   "metadata": {},
   "outputs": [
    {
     "name": "stdout",
     "output_type": "stream",
     "text": [
      "2.9100766138677\n",
      "100000\n"
     ]
    }
   ],
   "source": [
    "print(loss[-1])\n",
    "#print(weights[-1])\n",
    "print(iterations)"
   ]
  },
  {
   "cell_type": "code",
   "execution_count": 168,
   "metadata": {},
   "outputs": [
    {
     "data": {
      "text/plain": [
       "0.9788798489671812"
      ]
     },
     "execution_count": 168,
     "metadata": {},
     "output_type": "execute_result"
    }
   ],
   "source": [
    "from sklearn.metrics import r2_score\n",
    "squared_R = r2_score(y, y_pred)\n",
    "squared_R"
   ]
  }
 ],
 "metadata": {
  "kernelspec": {
   "display_name": "Python 3",
   "language": "python",
   "name": "python3"
  },
  "language_info": {
   "codemirror_mode": {
    "name": "ipython",
    "version": 3
   },
   "file_extension": ".py",
   "mimetype": "text/x-python",
   "name": "python",
   "nbconvert_exporter": "python",
   "pygments_lexer": "ipython3",
   "version": "3.7.6"
  }
 },
 "nbformat": 4,
 "nbformat_minor": 4
}
